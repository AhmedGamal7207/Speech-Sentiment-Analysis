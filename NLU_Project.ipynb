{
  "cells": [
    {
      "attachments": {},
      "cell_type": "markdown",
      "metadata": {},
      "source": [
        "NLU Project"
      ]
    },
    {
      "attachments": {},
      "cell_type": "markdown",
      "metadata": {},
      "source": [
        "Member 1: Ahmed Gamal Ahmed_20221459969"
      ]
    },
    {
      "attachments": {},
      "cell_type": "markdown",
      "metadata": {},
      "source": [
        "Member 2: Myar Hany Mohamed_2022376556\n"
      ]
    },
    {
      "attachments": {},
      "cell_type": "markdown",
      "metadata": {},
      "source": [
        "Member 3: Mona Badr Mostafa_2103111"
      ]
    },
    {
      "attachments": {},
      "cell_type": "markdown",
      "metadata": {},
      "source": [
        "Submission Date: 5/5/2024 - Sunday"
      ]
    },
    {
      "cell_type": "code",
      "execution_count": 1,
      "metadata": {
        "id": "tTB2AL4EQ2Vt"
      },
      "outputs": [],
      "source": [
        "# Importing the used libraries\n",
        "import pandas as pd\n",
        "import numpy as np\n",
        "\n",
        "from nltk.corpus import stopwords\n",
        "from nltk.tokenize import word_tokenize\n",
        "from nltk.stem import WordNetLemmatizer\n",
        "\n",
        "from sklearn.model_selection import train_test_split\n",
        "from sklearn.metrics import accuracy_score, classification_report\n",
        "from keras.models import Sequential, load_model\n",
        "from keras.layers import Embedding, LSTM, Dense\n",
        "from keras.preprocessing.text import Tokenizer\n",
        "from keras.preprocessing.sequence import pad_sequences\n",
        "from keras.callbacks import EarlyStopping\n",
        "from keras.utils import to_categorical\n",
        "from sklearn.feature_extraction.text import CountVectorizer\n",
        "from sklearn.linear_model import LogisticRegression\n",
        "from sklearn.metrics import accuracy_score, classification_report\n",
        "\n",
        "from sklearn.feature_extraction.text import TfidfVectorizer\n",
        "from sklearn.naive_bayes import MultinomialNB\n",
        "from sklearn.pipeline import make_pipeline\n",
        "\n",
        "import matplotlib.pyplot as plt\n",
        "\n",
        "import speech_recognition as sr\n",
        "\n",
        "import pyttsx3\n",
        "import random\n"
      ]
    },
    {
      "cell_type": "code",
      "execution_count": 2,
      "metadata": {
        "colab": {
          "base_uri": "https://localhost:8080/"
        },
        "id": "dbP7yAxkT7ma",
        "outputId": "05f87701-54ae-41dd-9113-28bf7d808f0f"
      },
      "outputs": [
        {
          "name": "stderr",
          "output_type": "stream",
          "text": [
            "[nltk_data] Downloading package stopwords to\n",
            "[nltk_data]     C:\\Users\\PCC\\AppData\\Roaming\\nltk_data...\n",
            "[nltk_data]   Package stopwords is already up-to-date!\n",
            "[nltk_data] Downloading package punkt to\n",
            "[nltk_data]     C:\\Users\\PCC\\AppData\\Roaming\\nltk_data...\n",
            "[nltk_data]   Package punkt is already up-to-date!\n",
            "[nltk_data] Downloading package wordnet to\n",
            "[nltk_data]     C:\\Users\\PCC\\AppData\\Roaming\\nltk_data...\n",
            "[nltk_data]   Package wordnet is already up-to-date!\n"
          ]
        },
        {
          "data": {
            "text/plain": [
              "True"
            ]
          },
          "execution_count": 2,
          "metadata": {},
          "output_type": "execute_result"
        }
      ],
      "source": [
        "import nltk\n",
        "nltk.download('stopwords')\n",
        "nltk.download('punkt')\n",
        "nltk.download('wordnet')"
      ]
    },
    {
      "attachments": {},
      "cell_type": "markdown",
      "metadata": {
        "id": "fH8VaJGyRH_q"
      },
      "source": [
        "# **Data Cleaning and Exploration**"
      ]
    },
    {
      "cell_type": "code",
      "execution_count": 3,
      "metadata": {
        "id": "M59MEoNRRC--"
      },
      "outputs": [],
      "source": [
        "# Load the dataset\n",
        "dataset_path = 'dataset.csv' # path of the our dataset\n",
        "df = pd.read_csv(dataset_path) # reading the dataset in pandas dataframe"
      ]
    },
    {
      "cell_type": "code",
      "execution_count": 4,
      "metadata": {
        "id": "gpbHvMRA-hfA"
      },
      "outputs": [],
      "source": [
        "# Drop rows where 'label' is 'love' or 'surprise'\n",
        "df = df[~df['label'].isin(['love', 'surprise'])]\n",
        "df.reset_index(drop=True, inplace=True)"
      ]
    },
    {
      "cell_type": "code",
      "execution_count": 5,
      "metadata": {
        "colab": {
          "base_uri": "https://localhost:8080/",
          "height": 224
        },
        "id": "-7Yw0bHEROkP",
        "outputId": "dbb14e97-b68f-4a81-dd69-41c2fb197a60"
      },
      "outputs": [
        {
          "name": "stdout",
          "output_type": "stream",
          "text": [
            "Head of the dataset:\n"
          ]
        },
        {
          "data": {
            "text/html": [
              "<div>\n",
              "<style scoped>\n",
              "    .dataframe tbody tr th:only-of-type {\n",
              "        vertical-align: middle;\n",
              "    }\n",
              "\n",
              "    .dataframe tbody tr th {\n",
              "        vertical-align: top;\n",
              "    }\n",
              "\n",
              "    .dataframe thead th {\n",
              "        text-align: right;\n",
              "    }\n",
              "</style>\n",
              "<table border=\"1\" class=\"dataframe\">\n",
              "  <thead>\n",
              "    <tr style=\"text-align: right;\">\n",
              "      <th></th>\n",
              "      <th>sentence</th>\n",
              "      <th>label</th>\n",
              "    </tr>\n",
              "  </thead>\n",
              "  <tbody>\n",
              "    <tr>\n",
              "      <th>0</th>\n",
              "      <td>i didnt feel humiliated</td>\n",
              "      <td>sadness</td>\n",
              "    </tr>\n",
              "    <tr>\n",
              "      <th>1</th>\n",
              "      <td>i can go from feeling so hopeless to so damned...</td>\n",
              "      <td>sadness</td>\n",
              "    </tr>\n",
              "    <tr>\n",
              "      <th>2</th>\n",
              "      <td>im grabbing a minute to post i feel greedy wrong</td>\n",
              "      <td>anger</td>\n",
              "    </tr>\n",
              "    <tr>\n",
              "      <th>3</th>\n",
              "      <td>i am feeling grouchy</td>\n",
              "      <td>anger</td>\n",
              "    </tr>\n",
              "    <tr>\n",
              "      <th>4</th>\n",
              "      <td>ive been feeling a little burdened lately wasn...</td>\n",
              "      <td>sadness</td>\n",
              "    </tr>\n",
              "  </tbody>\n",
              "</table>\n",
              "</div>"
            ],
            "text/plain": [
              "                                            sentence    label\n",
              "0                            i didnt feel humiliated  sadness\n",
              "1  i can go from feeling so hopeless to so damned...  sadness\n",
              "2   im grabbing a minute to post i feel greedy wrong    anger\n",
              "3                               i am feeling grouchy    anger\n",
              "4  ive been feeling a little burdened lately wasn...  sadness"
            ]
          },
          "execution_count": 5,
          "metadata": {},
          "output_type": "execute_result"
        }
      ],
      "source": [
        "# Show the head of the data\n",
        "print(\"Head of the dataset:\")\n",
        "df.head()"
      ]
    },
    {
      "cell_type": "code",
      "execution_count": 6,
      "metadata": {
        "colab": {
          "base_uri": "https://localhost:8080/"
        },
        "id": "31GMVGC_RW24",
        "outputId": "5e6e9389-0aa6-4537-8db4-f43f0d062901"
      },
      "outputs": [
        {
          "name": "stdout",
          "output_type": "stream",
          "text": [
            "Checking for empty rows:\n",
            "sentence    0\n",
            "label       0\n",
            "dtype: int64\n"
          ]
        }
      ],
      "source": [
        "# Check for empty rows\n",
        "print(\"Checking for empty rows:\")\n",
        "print(df.isnull().sum())"
      ]
    },
    {
      "cell_type": "code",
      "execution_count": 7,
      "metadata": {
        "colab": {
          "base_uri": "https://localhost:8080/"
        },
        "id": "Gnk436JqRcRs",
        "outputId": "f2e2c6ea-61d7-419b-d996-1f3c1b62daff"
      },
      "outputs": [
        {
          "name": "stdout",
          "output_type": "stream",
          "text": [
            "Count of sentences in each label:\n",
            "joy        6761\n",
            "sadness    5797\n",
            "anger      2709\n",
            "fear       2373\n",
            "Name: label, dtype: int64\n"
          ]
        }
      ],
      "source": [
        "# Count sentences in each label\n",
        "print(\"Count of sentences in each label:\")\n",
        "print(df['label'].value_counts())"
      ]
    },
    {
      "attachments": {},
      "cell_type": "markdown",
      "metadata": {
        "id": "P7WQRL8VT0We"
      },
      "source": [
        "# **Data and Text Preprocessing**"
      ]
    },
    {
      "cell_type": "code",
      "execution_count": 8,
      "metadata": {
        "colab": {
          "base_uri": "https://localhost:8080/"
        },
        "id": "7mR_Vhz6T0JF",
        "outputId": "2820869b-9249-478c-f9fd-e7efba5c010c"
      },
      "outputs": [
        {
          "name": "stdout",
          "output_type": "stream",
          "text": [
            "{\"should've\", 'haven', 'myself', 'them', \"mustn't\", 'same', 'off', 'was', 'yourselves', 'down', 'each', 'of', 'here', \"she's\", 'as', 'between', 'own', 'most', 'below', 'hadn', \"couldn't\", 'up', 'just', \"wouldn't\", \"weren't\", 'be', \"haven't\", 'over', 'an', 'don', \"you're\", 'didn', 'i', 'again', 'our', \"doesn't\", 'because', 'he', 'through', 'about', 'into', 'wouldn', 're', 'where', \"hadn't\", 'further', 'so', 'ourselves', \"shouldn't\", 'these', 'than', 'hasn', 'do', 'for', 'd', 'by', 'couldn', 'such', 'weren', \"it's\", \"that'll\", 'yourself', 'which', 'on', 'has', \"you'll\", 'few', 'had', 'themselves', 'there', 'more', 'have', 'until', 'isn', 'only', 'your', 't', 'are', 'will', 'ma', 's', 'wasn', \"you'd\", 'doing', 'should', 'above', 'then', 'how', 'am', 'during', 'y', 'did', \"hasn't\", \"isn't\", 'his', 'herself', 'needn', 'mightn', 'yours', 'too', 'now', 'hers', 'does', 'o', 'she', 'those', 'him', 'my', 'not', 'aren', 'the', 'were', 'out', 'both', 'can', 've', 'while', 'their', 'with', 'is', 'any', 'won', 'a', 'before', 'what', 'it', 'against', 'himself', 'its', 'ain', 'me', 'm', 'other', 'if', 'once', 'no', 'when', \"didn't\", 'from', 'who', 'after', \"don't\", 'this', 'why', 'her', 'whom', 'll', \"wasn't\", \"you've\", 'and', 'at', 'very', \"shan't\", 'mustn', 'they', \"mightn't\", 'to', 'been', 'all', \"aren't\", 'in', 'itself', 'but', 'some', 'ours', 'doesn', 'that', 'we', 'theirs', 'or', \"needn't\", 'nor', 'shouldn', \"won't\", 'under', 'you', 'being', 'having', 'shan'}\n"
          ]
        }
      ],
      "source": [
        "# Defining the stop words set\n",
        "stop_words = set(stopwords.words('english'))\n",
        "print(stop_words)\n",
        "# Defining our lemmatizer\n",
        "lemmatizer = WordNetLemmatizer()"
      ]
    },
    {
      "cell_type": "code",
      "execution_count": 9,
      "metadata": {
        "id": "jzVCtfdNU4w9"
      },
      "outputs": [],
      "source": [
        "# Function to preprocess the text (sentence)\n",
        "def preprocess_text(text):\n",
        "  # This function is doing: Lowercasing, Tokenization, Removing Stop Words, Lemmatization\n",
        "\n",
        "  # Lowercasing\n",
        "  text = text.lower() # Getting a lower cased version of the text\n",
        "\n",
        "  # Tokenization\n",
        "  tokens = word_tokenize(text) # Splitting the sentence into tokens (splitted words) eg: {\"I am the happiest\"} to {\"I\", \"am\", \"the\",\"happiest\"}\n",
        "\n",
        "  # Remove stop words\n",
        "  filtered_tokens = [word for word in tokens if word.lower() not in stop_words] # Getting a new version of the sentenve without the stop words\n",
        "  # if the token is not inisde the stop words, put it in the filtered_tokens array {\"I\",\"happiest\"}\n",
        "\n",
        "  # Lemmatization\n",
        "  lemmatized_tokens = [lemmatizer.lemmatize(word) for word in filtered_tokens] # Lemmatizing each word inside the filtered tokens eg: {happiest} to {happy}\n",
        "\n",
        "  # Join tokens back into a sentence\n",
        "  preprocessed_text = ' '.join(lemmatized_tokens) # Convert from array of tokens to a sentence (string) eg {\"I\",\"happy\"} to {\"I happy\"}\n",
        "\n",
        "  return preprocessed_text # return the preprocessed text"
      ]
    },
    {
      "cell_type": "code",
      "execution_count": 10,
      "metadata": {
        "id": "OIvPtcwwXME4"
      },
      "outputs": [],
      "source": [
        "# Preprocess the sentences\n",
        "df['preprocessed_sentence'] = df['sentence'].apply(preprocess_text) # Calling the function on all the existent sentences"
      ]
    },
    {
      "cell_type": "code",
      "execution_count": 11,
      "metadata": {
        "id": "wlzb0MFMwsbh"
      },
      "outputs": [],
      "source": [
        "# Mapping labels\n",
        "label_mapping = {'anger': 0, 'fear': 1, 'joy': 2, 'sadness': 3} # Mapping our labels to numbers\n",
        "df['label_mapped'] = df['label'].map(label_mapping) # New column: label_mapped has all the labels but mapped in numbers from 0 to 5"
      ]
    },
    {
      "cell_type": "code",
      "execution_count": 12,
      "metadata": {
        "colab": {
          "base_uri": "https://localhost:8080/",
          "height": 363
        },
        "id": "VwAdjQIHXeMR",
        "outputId": "ada33d8b-ca19-49cb-a75c-1b23643a40a2"
      },
      "outputs": [
        {
          "data": {
            "text/html": [
              "<div>\n",
              "<style scoped>\n",
              "    .dataframe tbody tr th:only-of-type {\n",
              "        vertical-align: middle;\n",
              "    }\n",
              "\n",
              "    .dataframe tbody tr th {\n",
              "        vertical-align: top;\n",
              "    }\n",
              "\n",
              "    .dataframe thead th {\n",
              "        text-align: right;\n",
              "    }\n",
              "</style>\n",
              "<table border=\"1\" class=\"dataframe\">\n",
              "  <thead>\n",
              "    <tr style=\"text-align: right;\">\n",
              "      <th></th>\n",
              "      <th>sentence</th>\n",
              "      <th>label</th>\n",
              "      <th>preprocessed_sentence</th>\n",
              "      <th>label_mapped</th>\n",
              "    </tr>\n",
              "  </thead>\n",
              "  <tbody>\n",
              "    <tr>\n",
              "      <th>0</th>\n",
              "      <td>i didnt feel humiliated</td>\n",
              "      <td>sadness</td>\n",
              "      <td>didnt feel humiliated</td>\n",
              "      <td>3</td>\n",
              "    </tr>\n",
              "    <tr>\n",
              "      <th>1</th>\n",
              "      <td>i can go from feeling so hopeless to so damned...</td>\n",
              "      <td>sadness</td>\n",
              "      <td>go feeling hopeless damned hopeful around some...</td>\n",
              "      <td>3</td>\n",
              "    </tr>\n",
              "    <tr>\n",
              "      <th>2</th>\n",
              "      <td>im grabbing a minute to post i feel greedy wrong</td>\n",
              "      <td>anger</td>\n",
              "      <td>im grabbing minute post feel greedy wrong</td>\n",
              "      <td>0</td>\n",
              "    </tr>\n",
              "    <tr>\n",
              "      <th>3</th>\n",
              "      <td>i am feeling grouchy</td>\n",
              "      <td>anger</td>\n",
              "      <td>feeling grouchy</td>\n",
              "      <td>0</td>\n",
              "    </tr>\n",
              "    <tr>\n",
              "      <th>4</th>\n",
              "      <td>ive been feeling a little burdened lately wasn...</td>\n",
              "      <td>sadness</td>\n",
              "      <td>ive feeling little burdened lately wasnt sure</td>\n",
              "      <td>3</td>\n",
              "    </tr>\n",
              "    <tr>\n",
              "      <th>5</th>\n",
              "      <td>i feel as confused about life as a teenager or...</td>\n",
              "      <td>fear</td>\n",
              "      <td>feel confused life teenager jaded year old man</td>\n",
              "      <td>1</td>\n",
              "    </tr>\n",
              "    <tr>\n",
              "      <th>6</th>\n",
              "      <td>i have been with petronas for years i feel tha...</td>\n",
              "      <td>joy</td>\n",
              "      <td>petronas year feel petronas performed well mad...</td>\n",
              "      <td>2</td>\n",
              "    </tr>\n",
              "    <tr>\n",
              "      <th>7</th>\n",
              "      <td>i feel like i have to make the suffering i m s...</td>\n",
              "      <td>sadness</td>\n",
              "      <td>feel like make suffering seeing mean something</td>\n",
              "      <td>3</td>\n",
              "    </tr>\n",
              "    <tr>\n",
              "      <th>8</th>\n",
              "      <td>i do feel that running is a divine experience ...</td>\n",
              "      <td>joy</td>\n",
              "      <td>feel running divine experience expect type spi...</td>\n",
              "      <td>2</td>\n",
              "    </tr>\n",
              "    <tr>\n",
              "      <th>9</th>\n",
              "      <td>i think it s the easiest time of year to feel ...</td>\n",
              "      <td>anger</td>\n",
              "      <td>think easiest time year feel dissatisfied</td>\n",
              "      <td>0</td>\n",
              "    </tr>\n",
              "  </tbody>\n",
              "</table>\n",
              "</div>"
            ],
            "text/plain": [
              "                                            sentence    label  \\\n",
              "0                            i didnt feel humiliated  sadness   \n",
              "1  i can go from feeling so hopeless to so damned...  sadness   \n",
              "2   im grabbing a minute to post i feel greedy wrong    anger   \n",
              "3                               i am feeling grouchy    anger   \n",
              "4  ive been feeling a little burdened lately wasn...  sadness   \n",
              "5  i feel as confused about life as a teenager or...     fear   \n",
              "6  i have been with petronas for years i feel tha...      joy   \n",
              "7  i feel like i have to make the suffering i m s...  sadness   \n",
              "8  i do feel that running is a divine experience ...      joy   \n",
              "9  i think it s the easiest time of year to feel ...    anger   \n",
              "\n",
              "                               preprocessed_sentence  label_mapped  \n",
              "0                              didnt feel humiliated             3  \n",
              "1  go feeling hopeless damned hopeful around some...             3  \n",
              "2          im grabbing minute post feel greedy wrong             0  \n",
              "3                                    feeling grouchy             0  \n",
              "4      ive feeling little burdened lately wasnt sure             3  \n",
              "5     feel confused life teenager jaded year old man             1  \n",
              "6  petronas year feel petronas performed well mad...             2  \n",
              "7     feel like make suffering seeing mean something             3  \n",
              "8  feel running divine experience expect type spi...             2  \n",
              "9          think easiest time year feel dissatisfied             0  "
            ]
          },
          "execution_count": 12,
          "metadata": {},
          "output_type": "execute_result"
        }
      ],
      "source": [
        "df.head(10) # Showing first 10 rows of the current data"
      ]
    },
    {
      "attachments": {},
      "cell_type": "markdown",
      "metadata": {
        "id": "FvLpANMdW92B"
      },
      "source": [
        "# **LSTM Model Creation**"
      ]
    },
    {
      "cell_type": "code",
      "execution_count": 13,
      "metadata": {
        "id": "zPI1hMeBwI6W"
      },
      "outputs": [],
      "source": [
        "# Splitting Sentences and labels\n",
        "sentences = df['preprocessed_sentence'].values\n",
        "labels = df['label_mapped'].values"
      ]
    },
    {
      "cell_type": "code",
      "execution_count": 14,
      "metadata": {},
      "outputs": [
        {
          "name": "stdout",
          "output_type": "stream",
          "text": [
            "<class 'numpy.ndarray'>\n",
            "<class 'numpy.ndarray'>\n"
          ]
        }
      ],
      "source": [
        "print(type(sentences))\n",
        "print(type(labels))"
      ]
    },
    {
      "cell_type": "code",
      "execution_count": 15,
      "metadata": {
        "id": "WQPEFsluw2KA"
      },
      "outputs": [],
      "source": [
        "# Split the data into training and testing sets\n",
        "train_sentences, test_sentences, train_labels, test_labels = train_test_split(\n",
        "    sentences, labels, test_size=0.2, random_state=42\n",
        ")\n",
        "train_labels = to_categorical(train_labels,num_classes = 4) # One hot encoded version of the labels, for example: anger will be represented as 1000, fear will be represnted as 0100 and so on\n",
        "test_labels = to_categorical(test_labels,num_classes = 4) # One hot encoded"
      ]
    },
    {
      "cell_type": "code",
      "execution_count": 16,
      "metadata": {
        "id": "ZgLlMuagXKfw"
      },
      "outputs": [],
      "source": [
        "# Tokenization: OOV Tokenizer\n",
        "# Training set: My Cat is Beautiful\n",
        "# OOV tokenizer will tokenize each word and give it an index\n",
        "# The shape of the tokenization: {<OOV>:1, My:2, Cat:3, is: 4, Beautiful: 5}\n",
        "# When testing, the tokenizer will put index 1 (<OOV>) for any word that is not in the training dataset\n",
        "# For example: if the test sentence was: The cat is so Beautiful\n",
        "# The sentence will be represented by {<OOV>, cat, is, <OOV>, Beutiful}\n",
        "\n",
        "tokenizer = Tokenizer(oov_token='<OOV>') # Put for stranger words this token: <OOV>\n",
        "tokenizer.fit_on_texts(train_sentences) # Applying the tokenizer on our sentences"
      ]
    },
    {
      "cell_type": "code",
      "execution_count": 17,
      "metadata": {
        "id": "PZ0A8itcaR_Z"
      },
      "outputs": [],
      "source": [
        "# Converting tokenized texts to sequences\n",
        "# Convert from the text tokens: {<OOV>, cat, is, <OOV>, Beutiful}\n",
        "# To their indices to be {1,2,4,1,5} (Numerical Representation for our dataset)\n",
        "\n",
        "train_sequences = tokenizer.texts_to_sequences(train_sentences) # Using the tokenizer to covert from the sentences to sequences of indexes like: [1,3,2,4]\n",
        "test_sequences = tokenizer.texts_to_sequences(test_sentences) # Doing the same but on test data"
      ]
    },
    {
      "cell_type": "code",
      "execution_count": 18,
      "metadata": {
        "id": "PuX1MU_hazS2"
      },
      "outputs": [],
      "source": [
        "# Padding (making all the sentences of the same length)\n",
        "# In padding we want all the sentences have the same length\n",
        "# First we are getting the maximum length of all the sentences we have: let's say the longest sentence is represented by {1,3,2,1,3,4,1} (max_length = 7)\n",
        "# For all the sentences that have length less than 7 for example {1,2,5,1}: convert it to size 7 with adding zeros to the post: {1,2,5,1,0,0,0}\n",
        "# This is usefull for the LSTM to make all the sentences have the same length (Balancing)\n",
        "\n",
        "max_length = max(len(seq) for seq in train_sequences) # Getting the maximum length of a sentence\n",
        "train_padded = pad_sequences(train_sequences, maxlen=max_length, padding='post') # Applying padding of zeros (post method) to make all of the sequences of the same length\n",
        "test_padded = pad_sequences(test_sequences, maxlen=max_length, padding='post') # Doing the same on test dataset"
      ]
    },
    {
      "cell_type": "code",
      "execution_count": 20,
      "metadata": {
        "id": "Y1RRDaAjnN-f"
      },
      "outputs": [],
      "source": [
        "# LSTM Model\n",
        "vocab_size = len(tokenizer.word_index) + 1 # Size of our vocabulary set (index + 1 because index starts from 0)\n",
        "\n",
        "model = Sequential() # Our model consists of sequence of layers\n",
        "model.add(Embedding(input_dim=vocab_size, output_dim=100, input_length=max_length)) # Embedding: create vector representation of each word keeping the semantic relationships\n",
        "# Embedding layer is a trainable layer that tries to create a vector of number of each word\n",
        "# These vectors will try to keep the relationships (context) between words\n",
        "# For example: the word king and the word queen will have 2 vectors that are very similar eg: [100101] for king, [100111] for queen\n",
        "# Params:\n",
        "# Input_Dim: takes the number(size) of unique words(vocabulary) inside our training dataset (vocabulary size)\n",
        "# Output_Dim: determines the size of the vector that it must create\n",
        "# Input_Length: takes the length of the input sentences (because we created padding, all of them of size = max_length\n",
        "model.add(LSTM(100, dropout=0.2, recurrent_dropout=0.2))\n",
        "# Params:\n",
        "# Units: Use 100 unit of LSTM\n",
        "# dropout: the dropout rate of the input\n",
        "# recurrent_dropout: the dropout rate on the recurrent connections\n",
        "model.add(Dense(4, activation='softmax')) # Classification Layer\n",
        "# Has 4 units for our 4 classes (labels)\n",
        "# Using softmax function to convert the predectinos to probabilites that has sum = 1\n",
        "model.compile(loss='categorical_crossentropy', optimizer='adam', metrics=['accuracy'])\n",
        "# Choosing categorical_crossentropy as our loss function and calculating the accuracy as a metric for evaluation\n"
      ]
    },
    {
      "attachments": {},
      "cell_type": "markdown",
      "metadata": {
        "id": "J-bGcXkq3Zaj"
      },
      "source": [
        "# **LSTM Model Training**"
      ]
    },
    {
      "cell_type": "code",
      "execution_count": 132,
      "metadata": {
        "colab": {
          "base_uri": "https://localhost:8080/"
        },
        "id": "HroYEb-Pnht8",
        "outputId": "90139476-d814-4b73-e1c9-eefdc1e40156"
      },
      "outputs": [
        {
          "name": "stdout",
          "output_type": "stream",
          "text": [
            "Epoch 1/5\n",
            "441/441 [==============================] - 14s 29ms/step - loss: 1.1421 - accuracy: 0.4259 - val_loss: 0.8629 - val_accuracy: 0.5677\n",
            "Epoch 2/5\n",
            "441/441 [==============================] - 12s 27ms/step - loss: 0.5365 - accuracy: 0.7511 - val_loss: 0.3576 - val_accuracy: 0.8427\n",
            "Epoch 3/5\n",
            "441/441 [==============================] - 12s 28ms/step - loss: 0.2270 - accuracy: 0.9187 - val_loss: 0.2225 - val_accuracy: 0.9359\n",
            "Epoch 4/5\n",
            "441/441 [==============================] - 12s 28ms/step - loss: 0.1185 - accuracy: 0.9652 - val_loss: 0.1644 - val_accuracy: 0.9498\n",
            "Epoch 5/5\n",
            "441/441 [==============================] - 12s 28ms/step - loss: 0.0779 - accuracy: 0.9780 - val_loss: 0.1697 - val_accuracy: 0.9501\n"
          ]
        }
      ],
      "source": [
        "early_stopping = EarlyStopping(monitor='val_loss', patience=2, restore_best_weights=True)\n",
        "\n",
        "history = model.fit(train_padded, train_labels, epochs=5, validation_data=(test_padded, test_labels), batch_size = 32, callbacks=[early_stopping])"
      ]
    },
    {
      "cell_type": "code",
      "execution_count": 133,
      "metadata": {
        "colab": {
          "base_uri": "https://localhost:8080/"
        },
        "id": "1ygAhY7ZzzZA",
        "outputId": "f794fd71-09e2-48de-b3fc-b31ecef490cd"
      },
      "outputs": [
        {
          "name": "stdout",
          "output_type": "stream",
          "text": [
            "Epoch 1/5\n"
          ]
        },
        {
          "name": "stdout",
          "output_type": "stream",
          "text": [
            "441/441 [==============================] - 13s 28ms/step - loss: 0.0603 - accuracy: 0.9826 - val_loss: 0.1577 - val_accuracy: 0.9529\n",
            "Epoch 2/5\n",
            "441/441 [==============================] - 12s 28ms/step - loss: 0.0390 - accuracy: 0.9884 - val_loss: 0.1990 - val_accuracy: 0.9498\n",
            "Epoch 3/5\n",
            "441/441 [==============================] - 12s 28ms/step - loss: 0.0364 - accuracy: 0.9894 - val_loss: 0.1909 - val_accuracy: 0.9473\n"
          ]
        }
      ],
      "source": [
        "history2 = model.fit(train_padded, train_labels, epochs=5, validation_data=(test_padded, test_labels), batch_size = 32, callbacks=[early_stopping])"
      ]
    },
    {
      "cell_type": "code",
      "execution_count": 143,
      "metadata": {
        "colab": {
          "base_uri": "https://localhost:8080/"
        },
        "id": "3qWM730s1RqN",
        "outputId": "47910544-220e-4010-8648-c8366e60a876"
      },
      "outputs": [
        {
          "name": "stdout",
          "output_type": "stream",
          "text": [
            "111/111 [==============================] - 1s 5ms/step - loss: 0.1577 - accuracy: 0.9529\n",
            "Test Accuracy: 95.29%\n"
          ]
        }
      ],
      "source": [
        "# Evaluate the model\n",
        "test_loss, test_accuracy = model.evaluate(test_padded, test_labels)\n",
        "print(f'Test Accuracy: {test_accuracy * 100:.2f}%')"
      ]
    },
    {
      "cell_type": "code",
      "execution_count": 144,
      "metadata": {
        "colab": {
          "base_uri": "https://localhost:8080/"
        },
        "id": "FXqjLRD-1Nss",
        "outputId": "8916e656-a7d2-43ff-b65b-d0b8b93043e3"
      },
      "outputs": [],
      "source": [
        "model.save('model_95Acc_10(8)Epochs.h5')\n",
        "model.save_weights('model_95Acc_10(8)Epochs_weights.h5')"
      ]
    },
    {
      "cell_type": "code",
      "execution_count": 145,
      "metadata": {
        "id": "fMVvrkWC23qL"
      },
      "outputs": [],
      "source": [
        "history_df1 = pd.DataFrame(history.history)\n",
        "history_df2 = pd.DataFrame(history2.history)\n",
        "history_df = pd.concat([history_df1,history_df2],ignore_index=True)\n",
        "history_df.reset_index(drop=True, inplace=True)\n",
        "# Save the DataFrame to a CSV file\n",
        "csv_filename = 'model_95Acc_10(8)Epochs_history.csv'\n",
        "history_df.to_csv(csv_filename, index=False)"
      ]
    },
    {
      "attachments": {},
      "cell_type": "markdown",
      "metadata": {
        "id": "UEs8AYs_3cTo"
      },
      "source": [
        "# **LSTM Model Loading**"
      ]
    },
    {
      "cell_type": "code",
      "execution_count": 21,
      "metadata": {
        "id": "n_GRobwp3h0R"
      },
      "outputs": [],
      "source": [
        "model = load_model('model_95Acc_10(8)Epochs.h5')\n",
        "history_df = pd.read_csv('model_95Acc_10(8)Epochs_history.csv')"
      ]
    },
    {
      "cell_type": "code",
      "execution_count": 22,
      "metadata": {
        "id": "2409hZyC4jmw"
      },
      "outputs": [],
      "source": [
        "def test_model(sentence):\n",
        "    # Preprocess the input sentence\n",
        "    preprocessed_input = preprocess_text(sentence) # Lowercasing, Tokenization, Removing Stop Words, Lemmatization\n",
        "    tokenized_input = tokenizer.texts_to_sequences([preprocessed_input]) # Convert text into sequences [1,4,1,3,2]\n",
        "    padded_input = pad_sequences(tokenized_input, maxlen=max_length, padding='post') # Padding to make them all with the same length\n",
        "\n",
        "    mapping_label = {0: 'anger', 1: 'fear', 2: 'joy', 3: 'sadness'} # Mapping our labels to numbers\n",
        "    # Prediction\n",
        "    result = model.predict(padded_input) # Model Predections: [0.01 0.2 0.7 0.02 0.04 0.03]\n",
        "    predected_index = np.argmax(result) # Getting the index of the maximum probability\n",
        "    emotion = mapping_label[predected_index] # Convert from indices to emotions {eg: 0 to fear}\n",
        "    confidence_score = np.max(result)*100 # How much is the model confident of his predection (sure %)\n",
        "    return emotion,confidence_score\n"
      ]
    },
    {
      "cell_type": "code",
      "execution_count": 23,
      "metadata": {
        "colab": {
          "base_uri": "https://localhost:8080/"
        },
        "id": "tnhBq_K45929",
        "outputId": "b04b23b1-928c-487c-9756-c3010e8a8a42"
      },
      "outputs": [
        {
          "name": "stdout",
          "output_type": "stream",
          "text": [
            "1/1 [==============================] - 1s 552ms/step\n",
            "Sentence: Finding unexpected kindness from strangers can turn an ordinary day into a truly happy one.\n",
            "LSTM Prediction: joy\n",
            "Confidence:  99.85114932060242\n"
          ]
        }
      ],
      "source": [
        "# Test with user input\n",
        "user_input = \"Finding unexpected kindness from strangers can turn an ordinary day into a truly happy one.\"\n",
        "lstm_result,lstm_conf = test_model(user_input)\n",
        "\n",
        "print(\"Sentence:\", user_input)\n",
        "print(\"LSTM Prediction:\", lstm_result)\n",
        "print(\"Confidence: \",lstm_conf)"
      ]
    },
    {
      "attachments": {},
      "cell_type": "markdown",
      "metadata": {
        "id": "yTbmcEsX374B"
      },
      "source": [
        "# **LSTM Model Plotting**"
      ]
    },
    {
      "cell_type": "code",
      "execution_count": 24,
      "metadata": {
        "colab": {
          "base_uri": "https://localhost:8080/",
          "height": 428
        },
        "id": "6Ij6HkDd3vN5",
        "outputId": "fd33e92f-4dbd-4d7b-f138-24d19f580412"
      },
      "outputs": [
        {
          "data": {
            "text/plain": [
              "<matplotlib.legend.Legend at 0x2583abc1c00>"
            ]
          },
          "execution_count": 24,
          "metadata": {},
          "output_type": "execute_result"
        },
        {
          "data": {
            "image/png": "[encoded data removed]",
            "text/plain": [
              "<Figure size 1200x400 with 2 Axes>"
            ]
          },
          "metadata": {},
          "output_type": "display_data"
        }
      ],
      "source": [
        "# Plot training history\n",
        "plt.figure(figsize=(12, 4))\n",
        "plt.subplot(1, 2, 1)\n",
        "plt.plot(history_df['accuracy'], label='Training Accuracy')\n",
        "plt.plot(history_df['val_accuracy'], label='Validation Accuracy')\n",
        "plt.title('Training and Validation Accuracy')\n",
        "plt.xlabel('Epoch')\n",
        "plt.ylabel('Accuracy')\n",
        "plt.legend()\n",
        "\n",
        "plt.subplot(1, 2, 2)\n",
        "plt.plot(history_df['loss'], label='Training Loss')\n",
        "plt.plot(history_df['val_loss'], label='Validation Loss')\n",
        "plt.title('Training and Validation Loss')\n",
        "plt.xlabel('Epoch')\n",
        "plt.ylabel('Loss')\n",
        "plt.legend()"
      ]
    },
    {
      "attachments": {},
      "cell_type": "markdown",
      "metadata": {
        "id": "53TeFrtEDagq"
      },
      "source": [
        "# **Naiive Bayes**"
      ]
    },
    {
      "cell_type": "code",
      "execution_count": 25,
      "metadata": {},
      "outputs": [
        {
          "name": "stdout",
          "output_type": "stream",
          "text": [
            "\n",
            "Naive Bayes Model Evaluation:\n",
            "Training Accuracy: 99.84%\n",
            "Test Accuracy: 85.29%\n"
          ]
        }
      ],
      "source": [
        "# Split the data into training and testing sets (80% train, 20% test)\n",
        "X_train, X_test, y_train, y_test = train_test_split(df['preprocessed_sentence'], df['label'], test_size=0.2, random_state=42)\n",
        "\n",
        "# Create a pipeline with a TF-IDF vectorizer and a Multinomial Naive Bayes classifier\n",
        "# The pipeline makes it easier to manage and apply transformations consistently\n",
        "nb_model = make_pipeline(TfidfVectorizer(ngram_range=(1,2)), MultinomialNB(alpha=0.05))\n",
        "# We found out that (by doing Parameter Hypertuining) that alpha = 0.05 gives the highest accuracy\n",
        "# ngram_range = (1,2) will extract the unigrams and bigrams in the data. and it achieves also the best accuracy after hypertuning\n",
        "# alpha is a term that identifies how big the probaility of unseen words will affect the model\n",
        "# alpha = 0.05 means that the unseen words will barely affect the model classification\n",
        "\n",
        "# Fit the Naive Bayes model using the preprocessed training data and corresponding labels\n",
        "nb_model.fit(X_train, y_train)\n",
        "\n",
        "# Predictions using the trained model on the training data\n",
        "y_nb_pred_train = nb_model.predict(X_train)\n",
        "\n",
        "# Predictions using the trained model on the testing data\n",
        "y_nb_pred_test = nb_model.predict(X_test)\n",
        "\n",
        "# Evaluation\n",
        "print(\"\\nNaive Bayes Model Evaluation:\")\n",
        "\n",
        "# Calculate and print the accuracy of the model\n",
        "train_accuracy = accuracy_score(y_train, y_nb_pred_train)\n",
        "print(\"Training Accuracy: {:.2f}%\".format(train_accuracy * 100))\n",
        "test_accuracy = accuracy_score(y_test, y_nb_pred_test)\n",
        "print(\"Test Accuracy: {:.2f}%\".format(test_accuracy * 100))\n",
        "# Explaination\n",
        "# 1. TfidfVectorizer: Converts a collection of raw documents to a matrix of TF-IDF features.\n",
        "#    This step helps represent the text data in a numerical format suitable for machine learning models.\n",
        "#    The default settings of TfidfVectorizer include tokenization, lowercasing, and the removal of stop words.\n",
        "\n",
        "# 2. MultinomialNB: Implements the Naive Bayes algorithm for multinomially distributed data.\n",
        "#    It's commonly used for text classification problems.\n",
        "\n",
        "# The pipeline ensures that the text data is transformed using the TF-IDF vectorizer\n",
        "# and then fed into the Naive Bayes classifier in a seamless manner."
      ]
    },
    {
      "cell_type": "code",
      "execution_count": 26,
      "metadata": {},
      "outputs": [],
      "source": [
        "def test_nb(sentence):\n",
        "    # Preprocess the input sentence\n",
        "    preprocessed_input = preprocess_text(sentence) # Lowercasing, Tokenization, Removing Stop Words, Lemmatization\n",
        "    # Prediction\n",
        "    emotion = nb_model.predict([preprocessed_input])\n",
        "    confidence_score = nb_model.predict_proba([preprocessed_input])\n",
        "    confidence_score = np.max(confidence_score) * 100\n",
        "    return emotion,confidence_score\n"
      ]
    },
    {
      "cell_type": "code",
      "execution_count": 27,
      "metadata": {},
      "outputs": [
        {
          "name": "stdout",
          "output_type": "stream",
          "text": [
            "Test Sentence:  Finding unexpected kindness from strangers can turn an ordinary day into a truly happy one.\n",
            "Prediction for the test sentence: joy\n",
            "Confidence:  94.22951146399669\n"
          ]
        }
      ],
      "source": [
        "# Test sentence\n",
        "test_sentence = \"Finding unexpected kindness from strangers can turn an ordinary day into a truly happy one.\"\n",
        "\n",
        "# Use the pipeline to transform and predict the label for the test sentence\n",
        "test_prediction,nb_conf = test_nb(test_sentence) # Print the predicted label for the test sentence\n",
        "\n",
        "print(\"Test Sentence: \",test_sentence)\n",
        "print(f\"Prediction for the test sentence: {test_prediction[0]}\")\n",
        "print(\"Confidence: \",nb_conf)\n"
      ]
    },
    {
      "attachments": {},
      "cell_type": "markdown",
      "metadata": {},
      "source": [
        "# **Logistic Regression**"
      ]
    },
    {
      "cell_type": "code",
      "execution_count": 28,
      "metadata": {},
      "outputs": [],
      "source": [
        "# Splitting the data into training and testing datasets for the Logistic Regression Model\n",
        "train_data, test_data, train_labels, test_labels = train_test_split(df[\"preprocessed_sentence\"],df[\"label\"], test_size=0.2, random_state=42)"
      ]
    },
    {
      "cell_type": "code",
      "execution_count": 29,
      "metadata": {},
      "outputs": [],
      "source": [
        "# Create an instance of CountVectorizer with a specified maximum number of features\n",
        "# The 'max_features' parameter limits the number of unique words (features) in the vocabulary\n",
        "vectorizer = CountVectorizer(max_features=vocab_size)\n",
        "\n",
        "# Transform the training data using the fitted vectorizer\n",
        "# This step converts the raw text into a sparse matrix representation, where each row corresponds to a document,\n",
        "# and each column corresponds to a unique word in the vocabulary.\n",
        "# For example:\n",
        "# Vocab:    happy    I    cat     so     am      beautiful  ....\n",
        "# Row1:       1      1     0      1      1           0      ....\n",
        "# Row 1 represents the first sentence which is I am so happy\n",
        "# If happy repeated in a sentence 2 times it will have the value of 2 instead of 1 and so on\n",
        "X_train = vectorizer.fit_transform(train_data)\n",
        "\n",
        "# Transform the test data using the same vectorizer\n",
        "# It's important to use the same vectorizer instance for consistency and to ensure that the same vocabulary is used\n",
        "# This means that the test data is represented using the same set of features as the training data\n",
        "X_test = vectorizer.transform(test_data)\n"
      ]
    },
    {
      "cell_type": "code",
      "execution_count": 30,
      "metadata": {},
      "outputs": [
        {
          "data": {
            "text/html": [
              "<style>#sk-container-id-1 {color: black;background-color: white;}#sk-container-id-1 pre{padding: 0;}#sk-container-id-1 div.sk-toggleable {background-color: white;}#sk-container-id-1 label.sk-toggleable__label {cursor: pointer;display: block;width: 100%;margin-bottom: 0;padding: 0.3em;box-sizing: border-box;text-align: center;}#sk-container-id-1 label.sk-toggleable__label-arrow:before {content: \"▸\";float: left;margin-right: 0.25em;color: #696969;}#sk-container-id-1 label.sk-toggleable__label-arrow:hover:before {color: black;}#sk-container-id-1 div.sk-estimator:hover label.sk-toggleable__label-arrow:before {color: black;}#sk-container-id-1 div.sk-toggleable__content {max-height: 0;max-width: 0;overflow: hidden;text-align: left;background-color: #f0f8ff;}#sk-container-id-1 div.sk-toggleable__content pre {margin: 0.2em;color: black;border-radius: 0.25em;background-color: #f0f8ff;}#sk-container-id-1 input.sk-toggleable__control:checked~div.sk-toggleable__content {max-height: 200px;max-width: 100%;overflow: auto;}#sk-container-id-1 input.sk-toggleable__control:checked~label.sk-toggleable__label-arrow:before {content: \"▾\";}#sk-container-id-1 div.sk-estimator input.sk-toggleable__control:checked~label.sk-toggleable__label {background-color: #d4ebff;}#sk-container-id-1 div.sk-label input.sk-toggleable__control:checked~label.sk-toggleable__label {background-color: #d4ebff;}#sk-container-id-1 input.sk-hidden--visually {border: 0;clip: rect(1px 1px 1px 1px);clip: rect(1px, 1px, 1px, 1px);height: 1px;margin: -1px;overflow: hidden;padding: 0;position: absolute;width: 1px;}#sk-container-id-1 div.sk-estimator {font-family: monospace;background-color: #f0f8ff;border: 1px dotted black;border-radius: 0.25em;box-sizing: border-box;margin-bottom: 0.5em;}#sk-container-id-1 div.sk-estimator:hover {background-color: #d4ebff;}#sk-container-id-1 div.sk-parallel-item::after {content: \"\";width: 100%;border-bottom: 1px solid gray;flex-grow: 1;}#sk-container-id-1 div.sk-label:hover label.sk-toggleable__label {background-color: #d4ebff;}#sk-container-id-1 div.sk-serial::before {content: \"\";position: absolute;border-left: 1px solid gray;box-sizing: border-box;top: 0;bottom: 0;left: 50%;z-index: 0;}#sk-container-id-1 div.sk-serial {display: flex;flex-direction: column;align-items: center;background-color: white;padding-right: 0.2em;padding-left: 0.2em;position: relative;}#sk-container-id-1 div.sk-item {position: relative;z-index: 1;}#sk-container-id-1 div.sk-parallel {display: flex;align-items: stretch;justify-content: center;background-color: white;position: relative;}#sk-container-id-1 div.sk-item::before, #sk-container-id-1 div.sk-parallel-item::before {content: \"\";position: absolute;border-left: 1px solid gray;box-sizing: border-box;top: 0;bottom: 0;left: 50%;z-index: -1;}#sk-container-id-1 div.sk-parallel-item {display: flex;flex-direction: column;z-index: 1;position: relative;background-color: white;}#sk-container-id-1 div.sk-parallel-item:first-child::after {align-self: flex-end;width: 50%;}#sk-container-id-1 div.sk-parallel-item:last-child::after {align-self: flex-start;width: 50%;}#sk-container-id-1 div.sk-parallel-item:only-child::after {width: 0;}#sk-container-id-1 div.sk-dashed-wrapped {border: 1px dashed gray;margin: 0 0.4em 0.5em 0.4em;box-sizing: border-box;padding-bottom: 0.4em;background-color: white;}#sk-container-id-1 div.sk-label label {font-family: monospace;font-weight: bold;display: inline-block;line-height: 1.2em;}#sk-container-id-1 div.sk-label-container {text-align: center;}#sk-container-id-1 div.sk-container {/* jupyter's `normalize.less` sets `[hidden] { display: none; }` but bootstrap.min.css set `[hidden] { display: none !important; }` so we also need the `!important` here to be able to override the default hidden behavior on the sphinx rendered scikit-learn.org. See: https://github.com/scikit-learn/scikit-learn/issues/21755 */display: inline-block !important;position: relative;}#sk-container-id-1 div.sk-text-repr-fallback {display: none;}</style><div id=\"sk-container-id-1\" class=\"sk-top-container\"><div class=\"sk-text-repr-fallback\"><pre>LogisticRegression(max_iter=20000)</pre><b>In a Jupyter environment, please rerun this cell to show the HTML representation or trust the notebook. <br />On GitHub, the HTML representation is unable to render, please try loading this page with nbviewer.org.</b></div><div class=\"sk-container\" hidden><div class=\"sk-item\"><div class=\"sk-estimator sk-toggleable\"><input class=\"sk-toggleable__control sk-hidden--visually\" id=\"sk-estimator-id-1\" type=\"checkbox\" checked><label for=\"sk-estimator-id-1\" class=\"sk-toggleable__label sk-toggleable__label-arrow\">LogisticRegression</label><div class=\"sk-toggleable__content\"><pre>LogisticRegression(max_iter=20000)</pre></div></div></div></div></div>"
            ],
            "text/plain": [
              "LogisticRegression(max_iter=20000)"
            ]
          },
          "execution_count": 30,
          "metadata": {},
          "output_type": "execute_result"
        }
      ],
      "source": [
        "# Create an instance of LogisticRegression with a specified maximum number of iterations\n",
        "# The 'max_iter' parameter determines the maximum number of iterations for optimization\n",
        "lr_model = LogisticRegression(max_iter=20000)\n",
        "\n",
        "# Fit the Logistic Regression model using the training data\n",
        "# The model learns the relationship between the input features ('X_train') and the corresponding labels ('train_labels')\n",
        "lr_model.fit(X_train, train_labels)"
      ]
    },
    {
      "cell_type": "code",
      "execution_count": 31,
      "metadata": {},
      "outputs": [
        {
          "name": "stdout",
          "output_type": "stream",
          "text": [
            "Testing Accuracy: 93.45238095238095%\n",
            "\n",
            "Classification Report:\n",
            "              precision    recall  f1-score   support\n",
            "\n",
            "       anger       0.91      0.86      0.88       538\n",
            "        fear       0.90      0.89      0.90       483\n",
            "         joy       0.96      0.97      0.96      1337\n",
            "     sadness       0.93      0.94      0.94      1170\n",
            "\n",
            "    accuracy                           0.93      3528\n",
            "   macro avg       0.92      0.92      0.92      3528\n",
            "weighted avg       0.93      0.93      0.93      3528\n",
            "\n"
          ]
        }
      ],
      "source": [
        "y_pred = lr_model.predict(X_test)\n",
        "\n",
        "accuracy = accuracy_score(test_labels, y_pred)\n",
        "print(f\"Testing Accuracy: {accuracy*100}%\")\n",
        "\n",
        "print(\"\\nClassification Report:\")\n",
        "print(classification_report(test_labels, y_pred))"
      ]
    },
    {
      "cell_type": "code",
      "execution_count": 32,
      "metadata": {},
      "outputs": [],
      "source": [
        "def test_lr(sentence):\n",
        "    sentence = [sentence]\n",
        "    X_test = vectorizer.transform(sentence)\n",
        "    predicted_emotion = lr_model.predict(X_test)\n",
        "    confidence_score = lr_model.predict_proba(X_test)\n",
        "    confidence_score = np.max(confidence_score) * 100\n",
        "    return predicted_emotion,confidence_score"
      ]
    },
    {
      "cell_type": "code",
      "execution_count": 33,
      "metadata": {},
      "outputs": [
        {
          "name": "stdout",
          "output_type": "stream",
          "text": [
            "96.05733364260311\n",
            "['joy']\n"
          ]
        }
      ],
      "source": [
        "test_sentence = \"Finding unexpected kindness from strangers can turn an ordinary day into a truly happy one.\"\n",
        "predicted_emotion,lr_conf = test_lr(test_sentence)\n",
        "print(lr_conf)\n",
        "print(predicted_emotion)"
      ]
    },
    {
      "attachments": {},
      "cell_type": "markdown",
      "metadata": {},
      "source": [
        "# **3 Models Testing**"
      ]
    },
    {
      "cell_type": "code",
      "execution_count": 34,
      "metadata": {},
      "outputs": [],
      "source": [
        "engine = pyttsx3.init()\n",
        "\n",
        "engine.setProperty('rate', 150)    \n",
        "engine.setProperty('volume', 1) \n",
        "voices = engine.getProperty('voices')\n",
        "engine.setProperty('voice', voices[1].id)\n",
        "def say(sent):\n",
        "    engine.say(sent)\n",
        "    engine.runAndWait()\n"
      ]
    },
    {
      "cell_type": "code",
      "execution_count": 35,
      "metadata": {},
      "outputs": [],
      "source": [
        "# Loading responses for each label\n",
        "responses_df = pd.read_csv(\"responses.csv\")\n",
        "joy_responses = responses_df[responses_df['label'] == 'joy']['response'].tolist()\n",
        "sadness_responses = responses_df[responses_df['label'] == 'sadness']['response'].tolist()\n",
        "fear_responses = responses_df[responses_df['label'] == 'fear']['response'].tolist()\n",
        "anger_responses = responses_df[responses_df['label'] == 'anger']['response'].tolist()\n",
        "\n",
        "responses = {\n",
        "    \"joy\":joy_responses,\n",
        "    \"sadness\":sadness_responses,\n",
        "    \"fear\":fear_responses,\n",
        "    \"anger\":anger_responses\n",
        "}"
      ]
    },
    {
      "cell_type": "code",
      "execution_count": 39,
      "metadata": {},
      "outputs": [
        {
          "name": "stdout",
          "output_type": "stream",
          "text": [
            "1) LSTM Model\n",
            "2) Naiive Bayes Model\n",
            "3) Logistic Regression Model\n",
            "4) Compare and choose the best\n",
            "OK You chose 4\n",
            "Speak any thing: \n",
            "result2:\n",
            "{   'alternative': [   {   'confidence': 0.95212841,\n",
            "                           'transcript': 'can you tell me my state now'},\n",
            "                       {'transcript': 'can you tell me my stayed now'},\n",
            "                       {'transcript': 'can you tell me my stat now'},\n",
            "                       {'transcript': 'can you tell me my stayt now'},\n",
            "                       {'transcript': 'can you tell me my staite now'}],\n",
            "    'final': True}\n",
            "\n",
            "You said>>> can you tell me my state now \n",
            "\n",
            "1/1 [==============================] - 0s 29ms/step\n",
            "LSTM Model predicted: anger with conf = 56.80013298988342\n",
            "Naive Bayes Model predicted: joy with conf = 42.1244307309997\n",
            "Logistic Regression Model predicted: joy with conf = 47.10157459475641\n",
            "\n",
            "The best model was LSTM with predection: anger\n",
            "Predicted: anger with confidence = 56.80013298988342\n",
            "\n",
            "\n",
            "Your feeling is anger.  I'm here to support you in finding constructive ways to deal with your anger.\n"
          ]
        }
      ],
      "source": [
        "r = sr.Recognizer()\n",
        "with sr.Microphone() as source :\n",
        "\n",
        "    print(\"1) LSTM Model\")\n",
        "    print(\"2) Naiive Bayes Model\")\n",
        "    print(\"3) Logistic Regression Model\")\n",
        "    print(\"4) Compare and choose the best\")\n",
        "    say(\"Enter your choice of models: \")\n",
        "    choice = int(input(\"Enter your choice of models: \"))\n",
        "    say(\"Ok, Now speak anything: \")\n",
        "    print(f\"OK You chose {choice}\")\n",
        "    print(\"Speak any thing: \")\n",
        "    audio = r.listen(source)\n",
        "    try :\n",
        "        text = r.recognize_google(audio)\n",
        "        print(\"\\nYou said>>> {} \\n\".format(text))\n",
        "        if choice == 1:\n",
        "            pred,conf = test_model(text)\n",
        "        elif choice == 2:\n",
        "            pred,conf = test_nb(text)\n",
        "        elif choice == 3:\n",
        "            pred,conf = test_lr(text)\n",
        "        elif choice == 4:\n",
        "            pred_lstm,conf_lstm = test_model(text)\n",
        "            pred_nb,conf_nb = test_nb(text)\n",
        "            pred_lr,conf_lr = test_lr(text)\n",
        "            pred_nb = pred_nb[0]\n",
        "            pred_lr = pred_lr[0]\n",
        "            print(f\"LSTM Model predicted: {pred_lstm} with conf = {conf_lstm}\")\n",
        "            print(f\"Naive Bayes Model predicted: {pred_nb} with conf = {conf_nb}\")\n",
        "            print(f\"Logistic Regression Model predicted: {pred_lr} with conf = {conf_lr}\")\n",
        "            confidences = np.array([conf_lstm,conf_nb,conf_lr])\n",
        "            predections = np.array([pred_lstm,pred_nb,pred_lr])\n",
        "            models = np.array([\"LSTM\",\"Naive Bayes\",\"Logistic Regression\"])\n",
        "            best_index = np.argmax(confidences)\n",
        "            conf = confidences[best_index]\n",
        "            pred = predections[best_index]\n",
        "            print(f\"\\nThe best model was {models[best_index]} with predection: {pred}\")\n",
        "        random_sent = random.choice(responses[pred])\n",
        "        say(f\"{random_sent}\")\n",
        "        print(f\"Predicted: {pred} with confidence = {conf}\")\n",
        "        print(f\"\\n\\nYour feeling is {pred}. {random_sent}\")\n",
        "    \n",
        "    except Exception as e:\n",
        "        print(e)\n",
        "        print(\"Couldn't detect that\")"
      ]
    }
  ],
  "metadata": {
    "colab": {
      "provenance": []
    },
    "kernelspec": {
      "display_name": "Python 3",
      "name": "python3"
    },
    "language_info": {
      "codemirror_mode": {
        "name": "ipython",
        "version": 3
      },
      "file_extension": ".py",
      "mimetype": "text/x-python",
      "name": "python",
      "nbconvert_exporter": "python",
      "pygments_lexer": "ipython3",
      "version": "3.10.4"
    }
  },
  "nbformat": 4,
  "nbformat_minor": 0
}
